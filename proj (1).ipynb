{
 "cells": [
  {
   "cell_type": "markdown",
   "id": "275a9521-c46c-4b78-b9d8-35f478232015",
   "metadata": {},
   "source": [
    "##### Providing a dataset of employees working in ABC company. It consists of 458 rows and 9 columns. The company needs the detailed report and explanation of their employees in each team, also need to identify the following:\n",
    "1.How many are there in each Team and the percentage splitting with respect to the total employees.\n",
    "2.Segregate the employees w.r.t different positions.\n",
    "3.Find from which age group most of the employees belong to.\n",
    "4.Find out under which team and position, spending in terms of salary is high.\n",
    "5.Find if there is any correlation between age and salary , represent it visually.\n",
    "Before doing the above questions, perform pre processing of the dataset. Also, the column height is having incorrect data, \n",
    "changing the data of that particular column with any random numbers between 150 and 180.\n"
   ]
  },
  {
   "cell_type": "code",
   "execution_count": 6,
   "id": "f9f21bf8-0882-4e87-b51a-0278d7f3c1d0",
   "metadata": {},
   "outputs": [],
   "source": [
    "import seaborn as sns\n",
    "import matplotlib.pyplot as plt\n",
    "import pandas as pd\n",
    "import numpy as np"
   ]
  },
  {
   "cell_type": "markdown",
   "id": "e00efc6c-4100-4d8a-9268-d763db6e11cc",
   "metadata": {},
   "source": [
    "### Step 1: Gather the Data\n",
    "#### Import the dataset into Jupyter Notebook."
   ]
  },
  {
   "cell_type": "code",
   "execution_count": 19,
   "id": "109f3511-d898-4311-a059-565407719da9",
   "metadata": {},
   "outputs": [
    {
     "data": {
      "text/html": [
       "<div>\n",
       "<style scoped>\n",
       "    .dataframe tbody tr th:only-of-type {\n",
       "        vertical-align: middle;\n",
       "    }\n",
       "\n",
       "    .dataframe tbody tr th {\n",
       "        vertical-align: top;\n",
       "    }\n",
       "\n",
       "    .dataframe thead th {\n",
       "        text-align: right;\n",
       "    }\n",
       "</style>\n",
       "<table border=\"1\" class=\"dataframe\">\n",
       "  <thead>\n",
       "    <tr style=\"text-align: right;\">\n",
       "      <th></th>\n",
       "      <th>Name</th>\n",
       "      <th>Team</th>\n",
       "      <th>Number</th>\n",
       "      <th>Position</th>\n",
       "      <th>Age</th>\n",
       "      <th>Height</th>\n",
       "      <th>Weight</th>\n",
       "      <th>College</th>\n",
       "      <th>Salary</th>\n",
       "    </tr>\n",
       "  </thead>\n",
       "  <tbody>\n",
       "    <tr>\n",
       "      <th>0</th>\n",
       "      <td>Avery Bradley</td>\n",
       "      <td>Boston Celtics</td>\n",
       "      <td>0</td>\n",
       "      <td>PG</td>\n",
       "      <td>25</td>\n",
       "      <td>06-Feb</td>\n",
       "      <td>180</td>\n",
       "      <td>Texas</td>\n",
       "      <td>7730337.0</td>\n",
       "    </tr>\n",
       "    <tr>\n",
       "      <th>1</th>\n",
       "      <td>Jae Crowder</td>\n",
       "      <td>Boston Celtics</td>\n",
       "      <td>99</td>\n",
       "      <td>SF</td>\n",
       "      <td>25</td>\n",
       "      <td>06-Jun</td>\n",
       "      <td>235</td>\n",
       "      <td>Marquette</td>\n",
       "      <td>6796117.0</td>\n",
       "    </tr>\n",
       "    <tr>\n",
       "      <th>2</th>\n",
       "      <td>John Holland</td>\n",
       "      <td>Boston Celtics</td>\n",
       "      <td>30</td>\n",
       "      <td>SG</td>\n",
       "      <td>27</td>\n",
       "      <td>06-May</td>\n",
       "      <td>205</td>\n",
       "      <td>Boston University</td>\n",
       "      <td>NaN</td>\n",
       "    </tr>\n",
       "    <tr>\n",
       "      <th>3</th>\n",
       "      <td>R.J. Hunter</td>\n",
       "      <td>Boston Celtics</td>\n",
       "      <td>28</td>\n",
       "      <td>SG</td>\n",
       "      <td>22</td>\n",
       "      <td>06-May</td>\n",
       "      <td>185</td>\n",
       "      <td>Georgia State</td>\n",
       "      <td>1148640.0</td>\n",
       "    </tr>\n",
       "    <tr>\n",
       "      <th>4</th>\n",
       "      <td>Jonas Jerebko</td>\n",
       "      <td>Boston Celtics</td>\n",
       "      <td>8</td>\n",
       "      <td>PF</td>\n",
       "      <td>29</td>\n",
       "      <td>06-Oct</td>\n",
       "      <td>231</td>\n",
       "      <td>NaN</td>\n",
       "      <td>5000000.0</td>\n",
       "    </tr>\n",
       "    <tr>\n",
       "      <th>...</th>\n",
       "      <td>...</td>\n",
       "      <td>...</td>\n",
       "      <td>...</td>\n",
       "      <td>...</td>\n",
       "      <td>...</td>\n",
       "      <td>...</td>\n",
       "      <td>...</td>\n",
       "      <td>...</td>\n",
       "      <td>...</td>\n",
       "    </tr>\n",
       "    <tr>\n",
       "      <th>453</th>\n",
       "      <td>Shelvin Mack</td>\n",
       "      <td>Utah Jazz</td>\n",
       "      <td>8</td>\n",
       "      <td>PG</td>\n",
       "      <td>26</td>\n",
       "      <td>06-Mar</td>\n",
       "      <td>203</td>\n",
       "      <td>Butler</td>\n",
       "      <td>2433333.0</td>\n",
       "    </tr>\n",
       "    <tr>\n",
       "      <th>454</th>\n",
       "      <td>Raul Neto</td>\n",
       "      <td>Utah Jazz</td>\n",
       "      <td>25</td>\n",
       "      <td>PG</td>\n",
       "      <td>24</td>\n",
       "      <td>06-Jan</td>\n",
       "      <td>179</td>\n",
       "      <td>NaN</td>\n",
       "      <td>900000.0</td>\n",
       "    </tr>\n",
       "    <tr>\n",
       "      <th>455</th>\n",
       "      <td>Tibor Pleiss</td>\n",
       "      <td>Utah Jazz</td>\n",
       "      <td>21</td>\n",
       "      <td>C</td>\n",
       "      <td>26</td>\n",
       "      <td>07-Mar</td>\n",
       "      <td>256</td>\n",
       "      <td>NaN</td>\n",
       "      <td>2900000.0</td>\n",
       "    </tr>\n",
       "    <tr>\n",
       "      <th>456</th>\n",
       "      <td>Jeff Withey</td>\n",
       "      <td>Utah Jazz</td>\n",
       "      <td>24</td>\n",
       "      <td>C</td>\n",
       "      <td>26</td>\n",
       "      <td>7-0</td>\n",
       "      <td>231</td>\n",
       "      <td>Kansas</td>\n",
       "      <td>947276.0</td>\n",
       "    </tr>\n",
       "    <tr>\n",
       "      <th>457</th>\n",
       "      <td>Priyanka</td>\n",
       "      <td>Utah Jazz</td>\n",
       "      <td>34</td>\n",
       "      <td>C</td>\n",
       "      <td>25</td>\n",
       "      <td>07-Mar</td>\n",
       "      <td>231</td>\n",
       "      <td>Kansas</td>\n",
       "      <td>947276.0</td>\n",
       "    </tr>\n",
       "  </tbody>\n",
       "</table>\n",
       "<p>458 rows × 9 columns</p>\n",
       "</div>"
      ],
      "text/plain": [
       "              Name            Team  Number Position  Age  Height  Weight  \\\n",
       "0    Avery Bradley  Boston Celtics       0       PG   25  06-Feb     180   \n",
       "1      Jae Crowder  Boston Celtics      99       SF   25  06-Jun     235   \n",
       "2     John Holland  Boston Celtics      30       SG   27  06-May     205   \n",
       "3      R.J. Hunter  Boston Celtics      28       SG   22  06-May     185   \n",
       "4    Jonas Jerebko  Boston Celtics       8       PF   29  06-Oct     231   \n",
       "..             ...             ...     ...      ...  ...     ...     ...   \n",
       "453   Shelvin Mack       Utah Jazz       8       PG   26  06-Mar     203   \n",
       "454      Raul Neto       Utah Jazz      25       PG   24  06-Jan     179   \n",
       "455   Tibor Pleiss       Utah Jazz      21        C   26  07-Mar     256   \n",
       "456    Jeff Withey       Utah Jazz      24        C   26     7-0     231   \n",
       "457       Priyanka       Utah Jazz      34        C   25  07-Mar     231   \n",
       "\n",
       "               College     Salary  \n",
       "0                Texas  7730337.0  \n",
       "1            Marquette  6796117.0  \n",
       "2    Boston University        NaN  \n",
       "3        Georgia State  1148640.0  \n",
       "4                  NaN  5000000.0  \n",
       "..                 ...        ...  \n",
       "453             Butler  2433333.0  \n",
       "454                NaN   900000.0  \n",
       "455                NaN  2900000.0  \n",
       "456             Kansas   947276.0  \n",
       "457             Kansas   947276.0  \n",
       "\n",
       "[458 rows x 9 columns]"
      ]
     },
     "execution_count": 19,
     "metadata": {},
     "output_type": "execute_result"
    }
   ],
   "source": [
    "#Reading csv file\n",
    "df=pd.read_csv('myexcel.csv')\n",
    "df"
   ]
  },
  {
   "cell_type": "markdown",
   "id": "c9911590-5554-4d72-8898-95bdc34ffa35",
   "metadata": {},
   "source": [
    "### Step 2: Explore and Clean the Data\n",
    "### Explore the dataset to understand its structure, identify missing values, outliers, and perform data cleaning if needed."
   ]
  },
  {
   "cell_type": "code",
   "execution_count": 20,
   "id": "f9e6ae42-e8a7-4ca2-aad7-7afca84513e6",
   "metadata": {},
   "outputs": [
    {
     "data": {
      "text/html": [
       "<div>\n",
       "<style scoped>\n",
       "    .dataframe tbody tr th:only-of-type {\n",
       "        vertical-align: middle;\n",
       "    }\n",
       "\n",
       "    .dataframe tbody tr th {\n",
       "        vertical-align: top;\n",
       "    }\n",
       "\n",
       "    .dataframe thead th {\n",
       "        text-align: right;\n",
       "    }\n",
       "</style>\n",
       "<table border=\"1\" class=\"dataframe\">\n",
       "  <thead>\n",
       "    <tr style=\"text-align: right;\">\n",
       "      <th></th>\n",
       "      <th>Number</th>\n",
       "      <th>Age</th>\n",
       "      <th>Weight</th>\n",
       "      <th>Salary</th>\n",
       "    </tr>\n",
       "  </thead>\n",
       "  <tbody>\n",
       "    <tr>\n",
       "      <th>count</th>\n",
       "      <td>458.000000</td>\n",
       "      <td>458.000000</td>\n",
       "      <td>458.000000</td>\n",
       "      <td>4.470000e+02</td>\n",
       "    </tr>\n",
       "    <tr>\n",
       "      <th>mean</th>\n",
       "      <td>17.713974</td>\n",
       "      <td>26.934498</td>\n",
       "      <td>221.543668</td>\n",
       "      <td>4.833970e+06</td>\n",
       "    </tr>\n",
       "    <tr>\n",
       "      <th>std</th>\n",
       "      <td>15.966837</td>\n",
       "      <td>4.400128</td>\n",
       "      <td>26.343200</td>\n",
       "      <td>5.226620e+06</td>\n",
       "    </tr>\n",
       "    <tr>\n",
       "      <th>min</th>\n",
       "      <td>0.000000</td>\n",
       "      <td>19.000000</td>\n",
       "      <td>161.000000</td>\n",
       "      <td>3.088800e+04</td>\n",
       "    </tr>\n",
       "    <tr>\n",
       "      <th>25%</th>\n",
       "      <td>5.000000</td>\n",
       "      <td>24.000000</td>\n",
       "      <td>200.000000</td>\n",
       "      <td>1.025210e+06</td>\n",
       "    </tr>\n",
       "    <tr>\n",
       "      <th>50%</th>\n",
       "      <td>13.000000</td>\n",
       "      <td>26.000000</td>\n",
       "      <td>220.000000</td>\n",
       "      <td>2.836186e+06</td>\n",
       "    </tr>\n",
       "    <tr>\n",
       "      <th>75%</th>\n",
       "      <td>25.000000</td>\n",
       "      <td>30.000000</td>\n",
       "      <td>240.000000</td>\n",
       "      <td>6.500000e+06</td>\n",
       "    </tr>\n",
       "    <tr>\n",
       "      <th>max</th>\n",
       "      <td>99.000000</td>\n",
       "      <td>40.000000</td>\n",
       "      <td>307.000000</td>\n",
       "      <td>2.500000e+07</td>\n",
       "    </tr>\n",
       "  </tbody>\n",
       "</table>\n",
       "</div>"
      ],
      "text/plain": [
       "           Number         Age      Weight        Salary\n",
       "count  458.000000  458.000000  458.000000  4.470000e+02\n",
       "mean    17.713974   26.934498  221.543668  4.833970e+06\n",
       "std     15.966837    4.400128   26.343200  5.226620e+06\n",
       "min      0.000000   19.000000  161.000000  3.088800e+04\n",
       "25%      5.000000   24.000000  200.000000  1.025210e+06\n",
       "50%     13.000000   26.000000  220.000000  2.836186e+06\n",
       "75%     25.000000   30.000000  240.000000  6.500000e+06\n",
       "max     99.000000   40.000000  307.000000  2.500000e+07"
      ]
     },
     "execution_count": 20,
     "metadata": {},
     "output_type": "execute_result"
    }
   ],
   "source": [
    "df.describe()"
   ]
  },
  {
   "cell_type": "code",
   "execution_count": 21,
   "id": "0c8b43a6-26d8-455b-9036-29faccf311d4",
   "metadata": {},
   "outputs": [
    {
     "data": {
      "text/html": [
       "<div>\n",
       "<style scoped>\n",
       "    .dataframe tbody tr th:only-of-type {\n",
       "        vertical-align: middle;\n",
       "    }\n",
       "\n",
       "    .dataframe tbody tr th {\n",
       "        vertical-align: top;\n",
       "    }\n",
       "\n",
       "    .dataframe thead th {\n",
       "        text-align: right;\n",
       "    }\n",
       "</style>\n",
       "<table border=\"1\" class=\"dataframe\">\n",
       "  <thead>\n",
       "    <tr style=\"text-align: right;\">\n",
       "      <th></th>\n",
       "      <th>Name</th>\n",
       "      <th>Team</th>\n",
       "      <th>Number</th>\n",
       "      <th>Position</th>\n",
       "      <th>Age</th>\n",
       "      <th>Height</th>\n",
       "      <th>Weight</th>\n",
       "      <th>College</th>\n",
       "      <th>Salary</th>\n",
       "    </tr>\n",
       "  </thead>\n",
       "  <tbody>\n",
       "    <tr>\n",
       "      <th>0</th>\n",
       "      <td>False</td>\n",
       "      <td>False</td>\n",
       "      <td>False</td>\n",
       "      <td>False</td>\n",
       "      <td>False</td>\n",
       "      <td>False</td>\n",
       "      <td>False</td>\n",
       "      <td>False</td>\n",
       "      <td>False</td>\n",
       "    </tr>\n",
       "    <tr>\n",
       "      <th>1</th>\n",
       "      <td>False</td>\n",
       "      <td>False</td>\n",
       "      <td>False</td>\n",
       "      <td>False</td>\n",
       "      <td>False</td>\n",
       "      <td>False</td>\n",
       "      <td>False</td>\n",
       "      <td>False</td>\n",
       "      <td>False</td>\n",
       "    </tr>\n",
       "    <tr>\n",
       "      <th>2</th>\n",
       "      <td>False</td>\n",
       "      <td>False</td>\n",
       "      <td>False</td>\n",
       "      <td>False</td>\n",
       "      <td>False</td>\n",
       "      <td>False</td>\n",
       "      <td>False</td>\n",
       "      <td>False</td>\n",
       "      <td>True</td>\n",
       "    </tr>\n",
       "    <tr>\n",
       "      <th>3</th>\n",
       "      <td>False</td>\n",
       "      <td>False</td>\n",
       "      <td>False</td>\n",
       "      <td>False</td>\n",
       "      <td>False</td>\n",
       "      <td>False</td>\n",
       "      <td>False</td>\n",
       "      <td>False</td>\n",
       "      <td>False</td>\n",
       "    </tr>\n",
       "    <tr>\n",
       "      <th>4</th>\n",
       "      <td>False</td>\n",
       "      <td>False</td>\n",
       "      <td>False</td>\n",
       "      <td>False</td>\n",
       "      <td>False</td>\n",
       "      <td>False</td>\n",
       "      <td>False</td>\n",
       "      <td>True</td>\n",
       "      <td>False</td>\n",
       "    </tr>\n",
       "    <tr>\n",
       "      <th>...</th>\n",
       "      <td>...</td>\n",
       "      <td>...</td>\n",
       "      <td>...</td>\n",
       "      <td>...</td>\n",
       "      <td>...</td>\n",
       "      <td>...</td>\n",
       "      <td>...</td>\n",
       "      <td>...</td>\n",
       "      <td>...</td>\n",
       "    </tr>\n",
       "    <tr>\n",
       "      <th>453</th>\n",
       "      <td>False</td>\n",
       "      <td>False</td>\n",
       "      <td>False</td>\n",
       "      <td>False</td>\n",
       "      <td>False</td>\n",
       "      <td>False</td>\n",
       "      <td>False</td>\n",
       "      <td>False</td>\n",
       "      <td>False</td>\n",
       "    </tr>\n",
       "    <tr>\n",
       "      <th>454</th>\n",
       "      <td>False</td>\n",
       "      <td>False</td>\n",
       "      <td>False</td>\n",
       "      <td>False</td>\n",
       "      <td>False</td>\n",
       "      <td>False</td>\n",
       "      <td>False</td>\n",
       "      <td>True</td>\n",
       "      <td>False</td>\n",
       "    </tr>\n",
       "    <tr>\n",
       "      <th>455</th>\n",
       "      <td>False</td>\n",
       "      <td>False</td>\n",
       "      <td>False</td>\n",
       "      <td>False</td>\n",
       "      <td>False</td>\n",
       "      <td>False</td>\n",
       "      <td>False</td>\n",
       "      <td>True</td>\n",
       "      <td>False</td>\n",
       "    </tr>\n",
       "    <tr>\n",
       "      <th>456</th>\n",
       "      <td>False</td>\n",
       "      <td>False</td>\n",
       "      <td>False</td>\n",
       "      <td>False</td>\n",
       "      <td>False</td>\n",
       "      <td>False</td>\n",
       "      <td>False</td>\n",
       "      <td>False</td>\n",
       "      <td>False</td>\n",
       "    </tr>\n",
       "    <tr>\n",
       "      <th>457</th>\n",
       "      <td>False</td>\n",
       "      <td>False</td>\n",
       "      <td>False</td>\n",
       "      <td>False</td>\n",
       "      <td>False</td>\n",
       "      <td>False</td>\n",
       "      <td>False</td>\n",
       "      <td>False</td>\n",
       "      <td>False</td>\n",
       "    </tr>\n",
       "  </tbody>\n",
       "</table>\n",
       "<p>458 rows × 9 columns</p>\n",
       "</div>"
      ],
      "text/plain": [
       "      Name   Team  Number  Position    Age  Height  Weight  College  Salary\n",
       "0    False  False   False     False  False   False   False    False   False\n",
       "1    False  False   False     False  False   False   False    False   False\n",
       "2    False  False   False     False  False   False   False    False    True\n",
       "3    False  False   False     False  False   False   False    False   False\n",
       "4    False  False   False     False  False   False   False     True   False\n",
       "..     ...    ...     ...       ...    ...     ...     ...      ...     ...\n",
       "453  False  False   False     False  False   False   False    False   False\n",
       "454  False  False   False     False  False   False   False     True   False\n",
       "455  False  False   False     False  False   False   False     True   False\n",
       "456  False  False   False     False  False   False   False    False   False\n",
       "457  False  False   False     False  False   False   False    False   False\n",
       "\n",
       "[458 rows x 9 columns]"
      ]
     },
     "execution_count": 21,
     "metadata": {},
     "output_type": "execute_result"
    }
   ],
   "source": [
    "df.isnull()"
   ]
  },
  {
   "cell_type": "code",
   "execution_count": 22,
   "id": "1c65da63-482b-42f9-818f-7dc6cf3d6683",
   "metadata": {},
   "outputs": [
    {
     "name": "stdout",
     "output_type": "stream",
     "text": [
      "              Name            Team  Number Position  Age  Height  Weight  \\\n",
      "0    Avery Bradley  Boston Celtics       0       PG   25  06-Feb     180   \n",
      "1      Jae Crowder  Boston Celtics      99       SF   25  06-Jun     235   \n",
      "2     John Holland  Boston Celtics      30       SG   27  06-May     205   \n",
      "3      R.J. Hunter  Boston Celtics      28       SG   22  06-May     185   \n",
      "4    Jonas Jerebko  Boston Celtics       8       PF   29  06-Oct     231   \n",
      "..             ...             ...     ...      ...  ...     ...     ...   \n",
      "453   Shelvin Mack       Utah Jazz       8       PG   26  06-Mar     203   \n",
      "454      Raul Neto       Utah Jazz      25       PG   24  06-Jan     179   \n",
      "455   Tibor Pleiss       Utah Jazz      21        C   26  07-Mar     256   \n",
      "456    Jeff Withey       Utah Jazz      24        C   26     7-0     231   \n",
      "457       Priyanka       Utah Jazz      34        C   25  07-Mar     231   \n",
      "\n",
      "               College     Salary  \n",
      "0                Texas  7730337.0  \n",
      "1            Marquette  6796117.0  \n",
      "2    Boston University        0.0  \n",
      "3        Georgia State  1148640.0  \n",
      "4                    0  5000000.0  \n",
      "..                 ...        ...  \n",
      "453             Butler  2433333.0  \n",
      "454                  0   900000.0  \n",
      "455                  0  2900000.0  \n",
      "456             Kansas   947276.0  \n",
      "457             Kansas   947276.0  \n",
      "\n",
      "[458 rows x 9 columns]\n"
     ]
    }
   ],
   "source": [
    "df.fillna(0,inplace=True)\n",
    "print(df)"
   ]
  },
  {
   "cell_type": "code",
   "execution_count": 23,
   "id": "43b3fb27-3cdc-4345-b9ee-241cbada0786",
   "metadata": {},
   "outputs": [],
   "source": [
    "# Changing dayatype of salary from string to int\n",
    "df['Salary']=df['Salary'].astype(np.int64)"
   ]
  },
  {
   "cell_type": "code",
   "execution_count": 239,
   "id": "ae10d9db-0667-49d6-81a6-bf98201f1eaa",
   "metadata": {},
   "outputs": [
    {
     "data": {
      "text/plain": [
       "Name        0\n",
       "Team        0\n",
       "Number      0\n",
       "Position    0\n",
       "Age         0\n",
       "Height      0\n",
       "Weight      0\n",
       "College     0\n",
       "Salary      0\n",
       "dtype: int64"
      ]
     },
     "execution_count": 239,
     "metadata": {},
     "output_type": "execute_result"
    }
   ],
   "source": [
    "df.isnull().sum()"
   ]
  },
  {
   "cell_type": "code",
   "execution_count": 240,
   "id": "8670b93e-e78b-4081-9094-dea01e1795e5",
   "metadata": {},
   "outputs": [
    {
     "data": {
      "text/plain": [
       "0"
      ]
     },
     "execution_count": 240,
     "metadata": {},
     "output_type": "execute_result"
    }
   ],
   "source": [
    "df.duplicated().sum()"
   ]
  },
  {
   "cell_type": "code",
   "execution_count": 275,
   "id": "5a401837-029b-4ee7-ba0b-7de15f92f86d",
   "metadata": {},
   "outputs": [
    {
     "data": {
      "text/plain": [
       "Index(['Name', 'Team', 'Number', 'Position', 'Age', 'Height', 'Weight',\n",
       "       'College', 'Salary'],\n",
       "      dtype='object')"
      ]
     },
     "execution_count": 275,
     "metadata": {},
     "output_type": "execute_result"
    }
   ],
   "source": [
    "#Displaying column name\n",
    "df.columns"
   ]
  },
  {
   "cell_type": "code",
   "execution_count": 242,
   "id": "f838b474-85a0-4037-a65c-1bebf5a949b4",
   "metadata": {},
   "outputs": [
    {
     "name": "stdout",
     "output_type": "stream",
     "text": [
      "<class 'pandas.core.frame.DataFrame'>\n",
      "RangeIndex: 458 entries, 0 to 457\n",
      "Data columns (total 9 columns):\n",
      " #   Column    Non-Null Count  Dtype \n",
      "---  ------    --------------  ----- \n",
      " 0   Name      458 non-null    object\n",
      " 1   Team      458 non-null    object\n",
      " 2   Number    458 non-null    int64 \n",
      " 3   Position  458 non-null    object\n",
      " 4   Age       458 non-null    int64 \n",
      " 5   Height    458 non-null    object\n",
      " 6   Weight    458 non-null    int64 \n",
      " 7   College   458 non-null    object\n",
      " 8   Salary    458 non-null    int64 \n",
      "dtypes: int64(4), object(5)\n",
      "memory usage: 32.3+ KB\n"
     ]
    }
   ],
   "source": [
    "df.info()"
   ]
  },
  {
   "cell_type": "code",
   "execution_count": 243,
   "id": "af486069-aa03-47a5-811e-fc15cec2176a",
   "metadata": {},
   "outputs": [
    {
     "data": {
      "text/plain": [
       "0      06-Feb\n",
       "1      06-Jun\n",
       "2      06-May\n",
       "3      06-May\n",
       "4      06-Oct\n",
       "        ...  \n",
       "453    06-Mar\n",
       "454    06-Jan\n",
       "455    07-Mar\n",
       "456       7-0\n",
       "457    07-Mar\n",
       "Name: Height, Length: 458, dtype: object"
      ]
     },
     "execution_count": 243,
     "metadata": {},
     "output_type": "execute_result"
    }
   ],
   "source": [
    "df.Height"
   ]
  },
  {
   "cell_type": "code",
   "execution_count": 277,
   "id": "4dd838fa-8ad5-4361-8717-3e28b826f702",
   "metadata": {},
   "outputs": [
    {
     "data": {
      "text/plain": [
       "0      169\n",
       "1      180\n",
       "2      161\n",
       "3      168\n",
       "4      152\n",
       "      ... \n",
       "453    177\n",
       "454    169\n",
       "455    178\n",
       "456    154\n",
       "457    153\n",
       "Name: Height, Length: 458, dtype: int32"
      ]
     },
     "execution_count": 277,
     "metadata": {},
     "output_type": "execute_result"
    }
   ],
   "source": [
    "#Changing the value of height into a random number between 150 and 180\n",
    "df['Height'] = np.random.randint(150, 181, size=len(df))\n",
    "df.Height"
   ]
  },
  {
   "cell_type": "code",
   "execution_count": 278,
   "id": "4dfd2b63-876a-4cf7-ba23-5223217d1c50",
   "metadata": {
    "scrolled": true
   },
   "outputs": [
    {
     "data": {
      "text/html": [
       "<div>\n",
       "<style scoped>\n",
       "    .dataframe tbody tr th:only-of-type {\n",
       "        vertical-align: middle;\n",
       "    }\n",
       "\n",
       "    .dataframe tbody tr th {\n",
       "        vertical-align: top;\n",
       "    }\n",
       "\n",
       "    .dataframe thead th {\n",
       "        text-align: right;\n",
       "    }\n",
       "</style>\n",
       "<table border=\"1\" class=\"dataframe\">\n",
       "  <thead>\n",
       "    <tr style=\"text-align: right;\">\n",
       "      <th></th>\n",
       "      <th>Name</th>\n",
       "      <th>Team</th>\n",
       "      <th>Number</th>\n",
       "      <th>Position</th>\n",
       "      <th>Age</th>\n",
       "      <th>Height</th>\n",
       "      <th>Weight</th>\n",
       "      <th>College</th>\n",
       "      <th>Salary</th>\n",
       "    </tr>\n",
       "  </thead>\n",
       "  <tbody>\n",
       "    <tr>\n",
       "      <th>0</th>\n",
       "      <td>Avery Bradley</td>\n",
       "      <td>Boston Celtics</td>\n",
       "      <td>0</td>\n",
       "      <td>PG</td>\n",
       "      <td>25</td>\n",
       "      <td>169</td>\n",
       "      <td>180</td>\n",
       "      <td>Texas</td>\n",
       "      <td>7730337</td>\n",
       "    </tr>\n",
       "    <tr>\n",
       "      <th>1</th>\n",
       "      <td>Jae Crowder</td>\n",
       "      <td>Boston Celtics</td>\n",
       "      <td>99</td>\n",
       "      <td>SF</td>\n",
       "      <td>25</td>\n",
       "      <td>180</td>\n",
       "      <td>235</td>\n",
       "      <td>Marquette</td>\n",
       "      <td>6796117</td>\n",
       "    </tr>\n",
       "    <tr>\n",
       "      <th>2</th>\n",
       "      <td>John Holland</td>\n",
       "      <td>Boston Celtics</td>\n",
       "      <td>30</td>\n",
       "      <td>SG</td>\n",
       "      <td>27</td>\n",
       "      <td>161</td>\n",
       "      <td>205</td>\n",
       "      <td>Boston University</td>\n",
       "      <td>0</td>\n",
       "    </tr>\n",
       "    <tr>\n",
       "      <th>3</th>\n",
       "      <td>R.J. Hunter</td>\n",
       "      <td>Boston Celtics</td>\n",
       "      <td>28</td>\n",
       "      <td>SG</td>\n",
       "      <td>22</td>\n",
       "      <td>168</td>\n",
       "      <td>185</td>\n",
       "      <td>Georgia State</td>\n",
       "      <td>1148640</td>\n",
       "    </tr>\n",
       "    <tr>\n",
       "      <th>4</th>\n",
       "      <td>Jonas Jerebko</td>\n",
       "      <td>Boston Celtics</td>\n",
       "      <td>8</td>\n",
       "      <td>PF</td>\n",
       "      <td>29</td>\n",
       "      <td>152</td>\n",
       "      <td>231</td>\n",
       "      <td>0</td>\n",
       "      <td>5000000</td>\n",
       "    </tr>\n",
       "  </tbody>\n",
       "</table>\n",
       "</div>"
      ],
      "text/plain": [
       "            Name            Team  Number Position  Age  Height  Weight  \\\n",
       "0  Avery Bradley  Boston Celtics       0       PG   25     169     180   \n",
       "1    Jae Crowder  Boston Celtics      99       SF   25     180     235   \n",
       "2   John Holland  Boston Celtics      30       SG   27     161     205   \n",
       "3    R.J. Hunter  Boston Celtics      28       SG   22     168     185   \n",
       "4  Jonas Jerebko  Boston Celtics       8       PF   29     152     231   \n",
       "\n",
       "             College   Salary  \n",
       "0              Texas  7730337  \n",
       "1          Marquette  6796117  \n",
       "2  Boston University        0  \n",
       "3      Georgia State  1148640  \n",
       "4                  0  5000000  "
      ]
     },
     "execution_count": 278,
     "metadata": {},
     "output_type": "execute_result"
    }
   ],
   "source": [
    "df.head()"
   ]
  },
  {
   "cell_type": "markdown",
   "id": "c1b9afd2-5611-4d0e-a5ac-8240366e2b3b",
   "metadata": {},
   "source": [
    "#### Step 3: Analyze and Visualize\n",
    "Use libraries like Matplotlib, Seaborn, or Plotly to create visualizations that help in understanding \n",
    "the data and conveying your insights.\n"
   ]
  },
  {
   "cell_type": "markdown",
   "id": "d2eab6c6-33f0-4228-a986-6dc4dffbeb4a",
   "metadata": {},
   "source": [
    "## 1.How many are there in each Team and the percentage splitting with respect to the total employees.\n"
   ]
  },
  {
   "cell_type": "code",
   "execution_count": 279,
   "id": "d7e18f8e-cac3-4c88-9323-549a0a1e9298",
   "metadata": {},
   "outputs": [
    {
     "data": {
      "text/plain": [
       "Team\n",
       "New Orleans Pelicans      19\n",
       "Memphis Grizzlies         18\n",
       "Utah Jazz                 16\n",
       "New York Knicks           16\n",
       "Milwaukee Bucks           16\n",
       "Brooklyn Nets             15\n",
       "Portland Trail Blazers    15\n",
       "Oklahoma City Thunder     15\n",
       "Denver Nuggets            15\n",
       "Washington Wizards        15\n",
       "Miami Heat                15\n",
       "Charlotte Hornets         15\n",
       "Atlanta Hawks             15\n",
       "San Antonio Spurs         15\n",
       "Houston Rockets           15\n",
       "Boston Celtics            15\n",
       "Indiana Pacers            15\n",
       "Detroit Pistons           15\n",
       "Cleveland Cavaliers       15\n",
       "Chicago Bulls             15\n",
       "Sacramento Kings          15\n",
       "Phoenix Suns              15\n",
       "Los Angeles Lakers        15\n",
       "Los Angeles Clippers      15\n",
       "Golden State Warriors     15\n",
       "Toronto Raptors           15\n",
       "Philadelphia 76ers        15\n",
       "Dallas Mavericks          15\n",
       "Orlando Magic             14\n",
       "Minnesota Timberwolves    14\n",
       "Name: count, dtype: int64"
      ]
     },
     "execution_count": 279,
     "metadata": {},
     "output_type": "execute_result"
    }
   ],
   "source": [
    "#Counting the members in each team\n",
    "Team_count=df['Team'].value_counts()\n",
    "Team_count"
   ]
  },
  {
   "cell_type": "code",
   "execution_count": 247,
   "id": "02d797c0-c922-432f-a884-21d3895da548",
   "metadata": {},
   "outputs": [
    {
     "data": {
      "text/plain": [
       "Team\n",
       "New Orleans Pelicans      4.148472\n",
       "Memphis Grizzlies         3.930131\n",
       "Utah Jazz                 3.493450\n",
       "New York Knicks           3.493450\n",
       "Milwaukee Bucks           3.493450\n",
       "Brooklyn Nets             3.275109\n",
       "Portland Trail Blazers    3.275109\n",
       "Oklahoma City Thunder     3.275109\n",
       "Denver Nuggets            3.275109\n",
       "Washington Wizards        3.275109\n",
       "Miami Heat                3.275109\n",
       "Charlotte Hornets         3.275109\n",
       "Atlanta Hawks             3.275109\n",
       "San Antonio Spurs         3.275109\n",
       "Houston Rockets           3.275109\n",
       "Boston Celtics            3.275109\n",
       "Indiana Pacers            3.275109\n",
       "Detroit Pistons           3.275109\n",
       "Cleveland Cavaliers       3.275109\n",
       "Chicago Bulls             3.275109\n",
       "Sacramento Kings          3.275109\n",
       "Phoenix Suns              3.275109\n",
       "Los Angeles Lakers        3.275109\n",
       "Los Angeles Clippers      3.275109\n",
       "Golden State Warriors     3.275109\n",
       "Toronto Raptors           3.275109\n",
       "Philadelphia 76ers        3.275109\n",
       "Dallas Mavericks          3.275109\n",
       "Orlando Magic             3.056769\n",
       "Minnesota Timberwolves    3.056769\n",
       "Name: count, dtype: float64"
      ]
     },
     "execution_count": 247,
     "metadata": {},
     "output_type": "execute_result"
    }
   ],
   "source": [
    "#Percentage splitting\n",
    "Team_count=df['Team'].value_counts()\n",
    "Total_employes=len(df)\n",
    "percentage=(Team_count/Total_employes)*100\n",
    "percentage\n"
   ]
  },
  {
   "cell_type": "code",
   "execution_count": 281,
   "id": "5b91dbe9-cbf9-4526-9def-c1d8c45d55cd",
   "metadata": {},
   "outputs": [
    {
     "data": {
      "text/plain": [
       "Text(0.5, 1.0, 'Plot for Percentage splitting of employees in each team')"
      ]
     },
     "execution_count": 281,
     "metadata": {},
     "output_type": "execute_result"
    },
    {
     "data": {
      "image/png": "[encoded data removed]",
      "text/plain": [
       "<Figure size 640x480 with 1 Axes>"
      ]
     },
     "metadata": {},
     "output_type": "display_data"
    }
   ],
   "source": [
    "#Plotting the percentage splitting of employees in each team\n",
    "percentage.plot(kind='bar',color='y',width=0.5,edgecolor='black')\n",
    "# Customize the plot\n",
    "plt.xlabel('Team')\n",
    "plt.ylabel('Percentage')\n",
    "plt.title('Plot for Percentage splitting of employees in each team')"
   ]
  },
  {
   "cell_type": "markdown",
   "id": "2bd4d16d-4bfa-4ed9-ad64-e99eca6a917c",
   "metadata": {},
   "source": [
    "## Summary\n",
    "- While analysing the above bar chart where Team as x-axis and Percentage as y-axis its clear that the percentage splitting of\n",
    "  New Orleans Pelicans is higher with respect to the other team members.\n",
    "- 23 of the teams are having the same percentage splitting."
   ]
  },
  {
   "cell_type": "markdown",
   "id": "05f93477-ed52-4291-9f6c-b8bc4e2162ac",
   "metadata": {},
   "source": [
    "## 2.Segregate the employees w.r.t different positions.\n"
   ]
  },
  {
   "cell_type": "code",
   "execution_count": 249,
   "id": "da9ee3b5-3d68-46c7-93fd-6bd51c927b54",
   "metadata": {},
   "outputs": [
    {
     "data": {
      "text/plain": [
       "Position\n",
       "SG    102\n",
       "PF    100\n",
       "PG     92\n",
       "SF     85\n",
       "C      79\n",
       "Name: count, dtype: int64"
      ]
     },
     "execution_count": 249,
     "metadata": {},
     "output_type": "execute_result"
    }
   ],
   "source": [
    "Position=df['Position'].value_counts()\n",
    "Position"
   ]
  },
  {
   "cell_type": "code",
   "execution_count": 287,
   "id": "72866ea5-b1ec-4c7c-872c-8c1e9087f727",
   "metadata": {},
   "outputs": [
    {
     "data": {
      "text/plain": [
       "Text(0, 0.5, 'Number of employees')"
      ]
     },
     "execution_count": 287,
     "metadata": {},
     "output_type": "execute_result"
    },
    {
     "data": {
      "image/png": "[encoded data removed]",
      "text/plain": [
       "<Figure size 640x480 with 1 Axes>"
      ]
     },
     "metadata": {},
     "output_type": "display_data"
    }
   ],
   "source": [
    "#plotting\n",
    "Position.plot(kind='bar',color='orange',width=0.5,edgecolor='black')\n",
    "# Customize the plot\n",
    "plt.title(\"Plot between employees w.r.t their positions\")\n",
    "plt.xlabel(\"Positions\")\n",
    "plt.ylabel(\"Number of employees\")"
   ]
  },
  {
   "cell_type": "markdown",
   "id": "86087a71-ace0-46c4-8378-70906790fd15",
   "metadata": {},
   "source": [
    "## Summary\n",
    "- It is clear from the value_counts  of data and also from the bar chart that the most number of employees are belongs to SG position,\n",
    "  and is just more than 100.\n",
    "- The second greatest is PF And the least number of employees belongs to C position."
   ]
  },
  {
   "cell_type": "markdown",
   "id": "4c43ac94-30cd-4807-84a9-95b725fa63e0",
   "metadata": {},
   "source": [
    "## 3.Find from which age group most of the employees belong to.\n"
   ]
  },
  {
   "cell_type": "code",
   "execution_count": 25,
   "id": "418555a1-ed8e-453b-8302-3d1329586d7c",
   "metadata": {},
   "outputs": [
    {
     "data": {
      "text/plain": [
       "Age\n",
       "24    47\n",
       "25    46\n",
       "27    41\n",
       "23    41\n",
       "26    36\n",
       "28    31\n",
       "30    31\n",
       "29    28\n",
       "22    26\n",
       "31    22\n",
       "20    19\n",
       "21    19\n",
       "33    14\n",
       "32    13\n",
       "34    10\n",
       "36    10\n",
       "35     9\n",
       "37     4\n",
       "38     4\n",
       "40     3\n",
       "39     2\n",
       "19     2\n",
       "Name: count, dtype: int64"
      ]
     },
     "execution_count": 25,
     "metadata": {},
     "output_type": "execute_result"
    }
   ],
   "source": [
    "df['Age'].value_counts()"
   ]
  },
  {
   "cell_type": "code",
   "execution_count": 26,
   "id": "d4177d90-2c5f-4218-92bc-fcca393539ef",
   "metadata": {},
   "outputs": [
    {
     "data": {
      "text/plain": [
       "Age\n",
       "(20, 30]    346\n",
       "(30, 40]     91\n",
       "(10, 20]     21\n",
       "(40, 50]      0\n",
       "Name: count, dtype: int64"
      ]
     },
     "execution_count": 26,
     "metadata": {},
     "output_type": "execute_result"
    }
   ],
   "source": [
    "#Creating bins and labels\n",
    "bins = [10, 20, 30, 40, 50]\n",
    "labels = ['10-19', '20-29', '30-39', '40-50']\n",
    "#Grouping the values using bins\n",
    "age_groups = pd.cut(df.Age, bins=bins)\n",
    "Group=age_groups.value_counts()\n",
    "Group"
   ]
  },
  {
   "cell_type": "code",
   "execution_count": 31,
   "id": "61dae1a5-8de3-438f-acbd-5d7b8a36c904",
   "metadata": {},
   "outputs": [
    {
     "data": {
      "image/png": "[encoded data removed]",
      "text/plain": [
       "<Figure size 640x480 with 1 Axes>"
      ]
     },
     "metadata": {},
     "output_type": "display_data"
    }
   ],
   "source": [
    "#plotting the group\n",
    "Group.plot(kind='bar',color='g',width=0.5,edgecolor='yellow')\n",
    "plt.show()"
   ]
  },
  {
   "cell_type": "markdown",
   "id": "31b14413-c102-4064-8317-9bfc492d415a",
   "metadata": {},
   "source": [
    "## Summary\n",
    "- While considering the data its clear that the most employees are belongs to the bins between 20 and 30.\n",
    "- Its also clear from the graph that there is no one is older than 40 years.\n",
    "- The least numbers of employees are belongs to the age between 10 and 20. "
   ]
  },
  {
   "cell_type": "markdown",
   "id": "cf0d97c5-eae0-41b2-a9ce-aa7f2cde0a0f",
   "metadata": {},
   "source": [
    "## 4.Find out under which team and position, spending in terms of salary is high."
   ]
  },
  {
   "cell_type": "code",
   "execution_count": 288,
   "id": "906e60ac-8076-43e1-9153-4d2a2a3c3567",
   "metadata": {},
   "outputs": [
    {
     "name": "stdout",
     "output_type": "stream",
     "text": [
      "               Team Position   Salary\n",
      "0    Boston Celtics       PG  7730337\n",
      "1    Boston Celtics       SF  6796117\n",
      "2    Boston Celtics       SG        0\n",
      "3    Boston Celtics       SG  1148640\n",
      "4    Boston Celtics       PF  5000000\n",
      "..              ...      ...      ...\n",
      "453       Utah Jazz       PG  2433333\n",
      "454       Utah Jazz       PG   900000\n",
      "455       Utah Jazz        C  2900000\n",
      "456       Utah Jazz        C   947276\n",
      "457       Utah Jazz        C   947276\n",
      "\n",
      "[458 rows x 3 columns]\n"
     ]
    }
   ],
   "source": [
    "# Viewing team,position and salary\n",
    "TPS=df.loc[:,['Team','Position','Salary']]\n",
    "print(TPS)"
   ]
  },
  {
   "cell_type": "code",
   "execution_count": 304,
   "id": "1b18d945-50f7-473f-899e-6d63fc887f25",
   "metadata": {},
   "outputs": [
    {
     "data": {
      "text/plain": [
       "Team                    Position\n",
       "Brooklyn Nets           SG          6\n",
       "Memphis Grizzlies       PF          6\n",
       "New Orleans Pelicans    SG          5\n",
       "Miami Heat              SF          5\n",
       "Cleveland Cavaliers     SG          5\n",
       "                                   ..\n",
       "Boston Celtics          SF          1\n",
       "Minnesota Timberwolves  SG          1\n",
       "Los Angeles Lakers      SG          1\n",
       "Memphis Grizzlies       C           1\n",
       "Miami Heat              C           1\n",
       "Name: count, Length: 149, dtype: int64"
      ]
     },
     "execution_count": 304,
     "metadata": {},
     "output_type": "execute_result"
    }
   ],
   "source": [
    "# Counting the team and position\n",
    "df[['Team','Position']].value_counts()"
   ]
  },
  {
   "cell_type": "code",
   "execution_count": 33,
   "id": "da42384c-25c2-4d88-a635-d0b5c3fbd074",
   "metadata": {},
   "outputs": [
    {
     "name": "stdout",
     "output_type": "stream",
     "text": [
      "('Los Angeles Lakers', 'SF')\n",
      "31866445\n",
      "25000000\n"
     ]
    }
   ],
   "source": [
    "#Grouping team and position w.r.to salary\n",
    "spending_by_team_position = df.groupby(['Team', 'Position'])['Salary'].sum()\n",
    "print(spending_by_team_position.idxmax())\n",
    "print(spending_by_team_position.max())\n",
    "#Maximum salaried person\n",
    "print(df['Salary'].max())"
   ]
  },
  {
   "cell_type": "code",
   "execution_count": 37,
   "id": "a24e9516-9fc3-4a14-b9a3-fa1ed650a73f",
   "metadata": {},
   "outputs": [
    {
     "data": {
      "text/plain": [
       "<function matplotlib.pyplot.plot(*args: 'float | ArrayLike | str', scalex: 'bool' = True, scaley: 'bool' = True, data=None, **kwargs) -> 'list[Line2D]'>"
      ]
     },
     "execution_count": 37,
     "metadata": {},
     "output_type": "execute_result"
    },
    {
     "data": {
      "image/png": "[encoded data removed]",
      "text/plain": [
       "<Figure size 640x480 with 1 Axes>"
      ]
     },
     "metadata": {},
     "output_type": "display_data"
    }
   ],
   "source": [
    "# Plotting the grouped items \n",
    "spending_by_team_position.plot(kind='hist',color='salmon', edgecolor='black')\n",
    "plt.plot"
   ]
  },
  {
   "cell_type": "markdown",
   "id": "5bf6fc5c-8e3b-4c12-9565-a059bc46f77a",
   "metadata": {},
   "source": [
    "### Summary\n",
    "- While considering the data it is clear that Los Angeles Lakers team and SF position, spending in terms of salary is high.\n",
    "- The histogram showing frequency distributions between the salary intervals.\n",
    "\n"
   ]
  },
  {
   "cell_type": "markdown",
   "id": "45811127-dabb-410a-b6c8-596e89161b2a",
   "metadata": {},
   "source": [
    "## 5.Find if there is any correlation between age and salary , represent it visually.\r\n"
   ]
  },
  {
   "cell_type": "code",
   "execution_count": 38,
   "id": "400480f4-1aa9-4cad-886a-566420acdfca",
   "metadata": {},
   "outputs": [
    {
     "name": "stdout",
     "output_type": "stream",
     "text": [
      "     Age   Salary\n",
      "0     25  7730337\n",
      "1     25  6796117\n",
      "2     27        0\n",
      "3     22  1148640\n",
      "4     29  5000000\n",
      "..   ...      ...\n",
      "453   26  2433333\n",
      "454   24   900000\n",
      "455   26  2900000\n",
      "456   26   947276\n",
      "457   25   947276\n",
      "\n",
      "[458 rows x 2 columns]\n",
      "Age             40\n",
      "Salary    25000000\n",
      "dtype: int64\n"
     ]
    }
   ],
   "source": [
    "#Checking age and salary columns values and checking its maximum.\n",
    "print(df[['Age','Salary']])\n",
    "print(df[['Age','Salary']].max())"
   ]
  },
  {
   "cell_type": "code",
   "execution_count": 40,
   "id": "a938ac3c-96d2-409a-b14d-6475329f877d",
   "metadata": {},
   "outputs": [
    {
     "name": "stdout",
     "output_type": "stream",
     "text": [
      "Salary\n",
      "947276     32\n",
      "845059     18\n",
      "525093     13\n",
      "0          11\n",
      "981348      6\n",
      "           ..\n",
      "2100000     1\n",
      "1252440     1\n",
      "2891760     1\n",
      "3272091     1\n",
      "900000      1\n",
      "Name: count, Length: 310, dtype: int64\n"
     ]
    }
   ],
   "source": [
    "print(df['Salary'].value_counts())"
   ]
  },
  {
   "cell_type": "code",
   "execution_count": 312,
   "id": "22071437-bc63-4c4e-999a-143366463cb9",
   "metadata": {},
   "outputs": [
    {
     "data": {
      "text/plain": [
       "Text(0.5, 1.0, 'Scatter Plot between age and salary')"
      ]
     },
     "execution_count": 312,
     "metadata": {},
     "output_type": "execute_result"
    },
    {
     "data": {
      "image/png": "[encoded data removed]",
      "text/plain": [
       "<Figure size 640x480 with 1 Axes>"
      ]
     },
     "metadata": {},
     "output_type": "display_data"
    }
   ],
   "source": [
    "#plotting scatter plot in pandas\n",
    "X=df.Age\n",
    "Y=df.Salary\n",
    "plt.scatter(X,Y,color='r')\n",
    "plt.xlabel('Age')\n",
    "plt.ylabel('Salary')\n",
    "plt.title('Scatter Plot between age and salary')\n"
   ]
  },
  {
   "cell_type": "code",
   "execution_count": 313,
   "id": "e985d3b3-5bbe-4d90-80a3-cae4cf7b95a7",
   "metadata": {},
   "outputs": [
    {
     "data": {
      "image/png": "[encoded data removed]",
      "text/plain": [
       "<Figure size 640x480 with 1 Axes>"
      ]
     },
     "metadata": {},
     "output_type": "display_data"
    }
   ],
   "source": [
    "#plotting scatterplot in seaborn\n",
    "sns.scatterplot(x=X, y=Y, hue=\"Age\", data=df)\n",
    "plt.show()"
   ]
  },
  {
   "cell_type": "code",
   "execution_count": 265,
   "id": "22785ce7-4794-4ca9-8265-1d078a883431",
   "metadata": {},
   "outputs": [
    {
     "data": {
      "text/html": [
       "<div>\n",
       "<style scoped>\n",
       "    .dataframe tbody tr th:only-of-type {\n",
       "        vertical-align: middle;\n",
       "    }\n",
       "\n",
       "    .dataframe tbody tr th {\n",
       "        vertical-align: top;\n",
       "    }\n",
       "\n",
       "    .dataframe thead th {\n",
       "        text-align: right;\n",
       "    }\n",
       "</style>\n",
       "<table border=\"1\" class=\"dataframe\">\n",
       "  <thead>\n",
       "    <tr style=\"text-align: right;\">\n",
       "      <th></th>\n",
       "      <th>Age</th>\n",
       "      <th>Salary</th>\n",
       "    </tr>\n",
       "  </thead>\n",
       "  <tbody>\n",
       "    <tr>\n",
       "      <th>Age</th>\n",
       "      <td>1.00000</td>\n",
       "      <td>0.20501</td>\n",
       "    </tr>\n",
       "    <tr>\n",
       "      <th>Salary</th>\n",
       "      <td>0.20501</td>\n",
       "      <td>1.00000</td>\n",
       "    </tr>\n",
       "  </tbody>\n",
       "</table>\n",
       "</div>"
      ],
      "text/plain": [
       "            Age   Salary\n",
       "Age     1.00000  0.20501\n",
       "Salary  0.20501  1.00000"
      ]
     },
     "execution_count": 265,
     "metadata": {},
     "output_type": "execute_result"
    }
   ],
   "source": [
    "cormat=df[['Age','Salary']].corr()\n",
    "cormat"
   ]
  },
  {
   "cell_type": "code",
   "execution_count": 272,
   "id": "f13c9daa-6375-414e-8574-643afaf7bbc8",
   "metadata": {},
   "outputs": [
    {
     "data": {
      "image/png": "[encoded data removed]",
      "text/plain": [
       "<Figure size 640x480 with 2 Axes>"
      ]
     },
     "metadata": {},
     "output_type": "display_data"
    }
   ],
   "source": [
    "sns.heatmap(cormat,annot=True, cmap=\"viridis\")\n",
    "plt.title(\"Correlation Matrix of Age and Salary\")\n",
    "plt.show()\n"
   ]
  },
  {
   "cell_type": "code",
   "execution_count": null,
   "id": "7671c3f7-6256-434c-93fd-3d493e4c80c4",
   "metadata": {},
   "outputs": [],
   "source": [
    "#Summary\n",
    "- While considering the data we get which age group will have maximum salary or is in increasing linearly or not.\n",
    "- I plotted the two values by using two types of scatter plots in which one is by pandas and other is by using seaborn.\n",
    "- In this plots we got some insights including maximum salaried person having the age between 35 and 40 years.\n",
    "  Also we can conclude that the most number of employees are having salary below one lakh.\n",
    "\n",
    "- While checking with correlation matrix its clear that The cormat variable will contain the correlation coefficients between 'Age' and 'Salary',\n",
    "    indicating the degree of linear relationship between these two variables.\n",
    "    A correlation value close to 1 indicates a strong positive linear relationship."
   ]
  },
  {
   "cell_type": "code",
   "execution_count": null,
   "id": "94706525-8d38-49c9-b4fa-a30efcbaf6c7",
   "metadata": {},
   "outputs": [],
   "source": [
    "## Iterative Analysis and Interpretation\n",
    "Repeat steps based on your initial findings, delve deeper into specific aspects, create additional visualizations,\n",
    "and iterate to gain more insights. Also changed some values and their type for more clarity of data.\n",
    "EDA helps in understanding the data distribution, relationships, and potential issues.\n"
   ]
  },
  {
   "cell_type": "code",
   "execution_count": null,
   "id": "93b3edf2-6069-431f-b7c5-180a07c8f04d",
   "metadata": {},
   "outputs": [],
   "source": []
  }
 ],
 "metadata": {
  "kernelspec": {
   "display_name": "Python 3 (ipykernel)",
   "language": "python",
   "name": "python3"
  },
  "language_info": {
   "codemirror_mode": {
    "name": "ipython",
    "version": 3
   },
   "file_extension": ".py",
   "mimetype": "text/x-python",
   "name": "python",
   "nbconvert_exporter": "python",
   "pygments_lexer": "ipython3",
   "version": "3.11.4"
  }
 },
 "nbformat": 4,
 "nbformat_minor": 5
}
